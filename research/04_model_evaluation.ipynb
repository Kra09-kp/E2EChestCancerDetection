{
 "cells": [
  {
   "cell_type": "code",
   "execution_count": 1,
   "id": "3e544a51",
   "metadata": {},
   "outputs": [
    {
     "data": {
      "text/plain": [
       "'/media/kirti/Dev/DeepLearning/Project/E2E/ChestCancerDetection/research'"
      ]
     },
     "execution_count": 1,
     "metadata": {},
     "output_type": "execute_result"
    }
   ],
   "source": [
    "import os\n",
    "%pwd"
   ]
  },
  {
   "cell_type": "code",
   "execution_count": 2,
   "id": "e6da76f0",
   "metadata": {},
   "outputs": [
    {
     "data": {
      "text/plain": [
       "'/media/kirti/Dev/DeepLearning/Project/E2E/ChestCancerDetection'"
      ]
     },
     "execution_count": 2,
     "metadata": {},
     "output_type": "execute_result"
    }
   ],
   "source": [
    "os.chdir(\"../\")\n",
    "%pwd"
   ]
  },
  {
   "cell_type": "code",
   "execution_count": 3,
   "id": "a5a0f85f",
   "metadata": {},
   "outputs": [
    {
     "data": {
      "text/html": [
       "<pre style=\"white-space:pre;overflow-x:auto;line-height:normal;font-family:Menlo,'DejaVu Sans Mono',consolas,'Courier New',monospace\">Accessing as Kra09-kp\n",
       "</pre>\n"
      ],
      "text/plain": [
       "Accessing as Kra09-kp\n"
      ]
     },
     "metadata": {},
     "output_type": "display_data"
    },
    {
     "data": {
      "text/html": [
       "<pre style=\"white-space:pre;overflow-x:auto;line-height:normal;font-family:Menlo,'DejaVu Sans Mono',consolas,'Courier New',monospace\">Initialized MLflow to track repo <span style=\"color: #008000; text-decoration-color: #008000\">\"Kra09-kp/E2EChestCancerDetection\"</span>\n",
       "</pre>\n"
      ],
      "text/plain": [
       "Initialized MLflow to track repo \u001b[32m\"Kra09-kp/E2EChestCancerDetection\"\u001b[0m\n"
      ]
     },
     "metadata": {},
     "output_type": "display_data"
    },
    {
     "data": {
      "text/html": [
       "<pre style=\"white-space:pre;overflow-x:auto;line-height:normal;font-family:Menlo,'DejaVu Sans Mono',consolas,'Courier New',monospace\">Repository Kra09-kp/E2EChestCancerDetection initialized!\n",
       "</pre>\n"
      ],
      "text/plain": [
       "Repository Kra09-kp/E2EChestCancerDetection initialized!\n"
      ]
     },
     "metadata": {},
     "output_type": "display_data"
    }
   ],
   "source": [
    "import dagshub\n",
    "dagshub.init(repo_owner='Kra09-kp', repo_name='E2EChestCancerDetection', mlflow=True)"
   ]
  },
  {
   "cell_type": "code",
   "execution_count": 4,
   "id": "a29a3689",
   "metadata": {},
   "outputs": [],
   "source": [
    "import mlflow\n",
    "import torch"
   ]
  },
  {
   "cell_type": "code",
   "execution_count": 5,
   "id": "e8546186",
   "metadata": {},
   "outputs": [],
   "source": [
    "from cnnClassifier.components.prepare_base_model import PrepareBaseModel"
   ]
  },
  {
   "cell_type": "code",
   "execution_count": 6,
   "id": "17374ef7",
   "metadata": {},
   "outputs": [],
   "source": [
    "model_path = \"Model/final_model.pth\""
   ]
  },
  {
   "cell_type": "code",
   "execution_count": 7,
   "id": "45af6836",
   "metadata": {},
   "outputs": [],
   "source": [
    "from dataclasses import dataclass\n",
    "from pathlib import Path\n",
    "\n",
    "@dataclass(frozen=True)\n",
    "class EvaluationConfig:\n",
    "    model_path: Path \n",
    "    testing_data: str\n",
    "    all_params: dict\n",
    "    mlflow_uri: str\n",
    "    params_image_size: list\n",
    "    params_batch_size: int"
   ]
  },
  {
   "cell_type": "code",
   "execution_count": 8,
   "id": "5c0437d5",
   "metadata": {},
   "outputs": [],
   "source": [
    "from cnnClassifier.constants import *\n",
    "from cnnClassifier.utils.common import read_yaml, create_directories, save_json"
   ]
  },
  {
   "cell_type": "code",
   "execution_count": null,
   "id": "cb3ea0a2",
   "metadata": {},
   "outputs": [],
   "source": [
    "class configManager:\n",
    "    def __init__(self,\n",
    "                 config_path: Path = CONFIG_FILE_PATH,\n",
    "                 params_path: Path = PARAMS_FILE_PATH):\n",
    "        self.config = read_yaml(config_path)\n",
    "        self.params = read_yaml(params_path)\n",
    "        create_directories([self.config.artifacts_root])\n",
    "\n",
    "    def get_evaluation_config(self) -> EvaluationConfig:\n",
    "        eval_config = EvaluationConfig(\n",
    "            model_path = Path(\"artifacts/train_model/best_model.pth\"),\n",
    "            testing_data = \"artifacts/data_ingestion/Data\",\n",
    "            all_params=self.params,\n",
    "            mlflow_uri=\"https://dagshub.com/Kra09-kp/E2EChestCancerDetection.mlflow\", \n",
    "            params_image_size=self.params.IMAGE_SIZE[:2],\n",
    "            params_batch_size=self.params.BATCH_SIZE\n",
    "        )\n",
    "        return eval_config\n",
    "    "
   ]
  },
  {
   "cell_type": "code",
   "execution_count": 18,
   "id": "da7d6060",
   "metadata": {},
   "outputs": [],
   "source": [
    "import torch\n",
    "import torch.nn as nn\n",
    "import torchvision\n",
    "import os\n",
    "from torchvision.models import VGG16_Weights\n",
    "from torch.utils import data\n",
    "from torchvision.transforms import v2 as T\n",
    "from tqdm import tqdm \n",
    "from urllib.parse import urlparse"
   ]
  },
  {
   "cell_type": "code",
   "execution_count": 19,
   "id": "9fecdaae",
   "metadata": {},
   "outputs": [],
   "source": [
    "\n",
    "\n",
    "class ModelEvaluation:\n",
    "    def __init__(self, config: EvaluationConfig):\n",
    "        self.config = config\n",
    "        self.device = torch.device(\"cuda\" if torch.cuda.is_available() else \"cpu\")\n",
    "        \n",
    "    def test_generator(self):\n",
    "        self._transform = T.Compose([\n",
    "            T.Resize(self.config.params_image_size),\n",
    "            T.ToTensor(),\n",
    "            T.Normalize(mean=[0.485, 0.456, 0.406],\n",
    "                       std=[0.229, 0.224, 0.225])\n",
    "        ])\n",
    "\n",
    "        self.test_dataset = torchvision.datasets.ImageFolder(\n",
    "            root=os.path.join(self.config.testing_data, \"test\"),\n",
    "            transform=self._transform\n",
    "        )\n",
    "\n",
    "        self.test_loader = data.DataLoader(\n",
    "            dataset=self.test_dataset,\n",
    "            batch_size=self.config.params_batch_size,\n",
    "            shuffle=False\n",
    "        )\n",
    "\n",
    "\n",
    "\n",
    "    @staticmethod\n",
    "    def load_model(config: EvaluationConfig):\n",
    "\n",
    "        model_path = config.model_path\n",
    "        classes = config.all_params['CLASSES']\n",
    "        freeze_all = config.all_params['FREEZE_ALL']\n",
    "        freeze_till = config.all_params['FREEZE_TILL']\n",
    "\n",
    "        # return classes\n",
    "        model = torchvision.models.vgg16(weights=None)\n",
    "\n",
    "        if freeze_all:\n",
    "            for param in model.parameters():\n",
    "                param.requires_grad = False\n",
    "\n",
    "        elif freeze_till is not None:\n",
    "            for param in list(model.parameters())[:freeze_till]:\n",
    "                param.requires_grad = False\n",
    "\n",
    "        # Modify the classifier\n",
    "        model.classifier = nn.Sequential(\n",
    "            nn.Linear(25088, 1024),\n",
    "            nn.BatchNorm1d(1024),\n",
    "            nn.ReLU(),\n",
    "            nn.Dropout(0.5),\n",
    "            nn.Linear(1024, 256),\n",
    "            nn.BatchNorm1d(256),\n",
    "            nn.ReLU(),\n",
    "            nn.Dropout(0.3),\n",
    "            nn.Linear(256, classes)  # for 4-class classification\n",
    "        )\n",
    "\n",
    "    \n",
    "        state_dict = torch.load(model_path,map_location=torch.device('cpu'))\n",
    "        model.load_state_dict(state_dict)\n",
    "        print(type(model))\n",
    "        return model\n",
    "    \n",
    "\n",
    "    def evaluation(self):\n",
    "        self.test_generator()\n",
    "        self.model = self.load_model(self.config)\n",
    "        len_test_dataset = len(self.test_dataset)\n",
    "        self.model.to(self.device)\n",
    "        self.model.eval()\n",
    "\n",
    "        accuracy = 0.0\n",
    "        loss = 0.0\n",
    "        with torch.no_grad():\n",
    "            loop = tqdm(self.test_loader, total=len(self.test_loader), desc=\"Evaluating Model\")\n",
    "            for images, labels in loop:\n",
    "                images, labels = images.to(self.device), labels.to(self.device)\n",
    "                outputs = self.model(images)\n",
    "                criterion = nn.CrossEntropyLoss()\n",
    "                # Calculate loss and accuracy\n",
    "                loss += criterion(outputs, labels).item() * images.size(0)\n",
    "                preds = torch.argmax(outputs, dim=1)\n",
    "                accuracy += (preds == labels).sum().item()\n",
    "                loop.set_description(\"Evaluation\")\n",
    "                loop.set_postfix(loss=loss, acc=accuracy)\n",
    "                # For testing purposes, we break after the first batch\n",
    "                break \n",
    "\n",
    "        val_accuracy = accuracy / len_test_dataset * 100\n",
    "        val_loss = loss / len_test_dataset\n",
    "\n",
    "        self.score = {\n",
    "            \"model_accuracy\": val_accuracy,\n",
    "            \"model_loss\": val_loss\n",
    "        }\n",
    "        print(self.score)\n",
    "        return self.score\n",
    "    \n",
    "\n",
    "    def save_score(self):\n",
    "        save_json(\n",
    "            path = Path(\"scores.json\"),\n",
    "            data = self.score\n",
    "        )\n",
    "\n",
    "        print(f\"Score saved at {Path('scores.json').resolve()}\")\n",
    "\n",
    "    def log_into_mlflow(self):\n",
    "        mlflow.set_tracking_uri(self.config.mlflow_uri)\n",
    "        tracking_url_type_store = urlparse(mlflow.get_tracking_uri()).scheme\n",
    "\n",
    "        mlflow.set_experiment(\"Checking Model\")\n",
    "\n",
    "        with mlflow.start_run():\n",
    "            mlflow.log_params(self.config.all_params)\n",
    "            mlflow.log_metric(\"model_accuracy\", self.score[\"model_accuracy\"])\n",
    "            mlflow.log_metric(\"model_loss\", self.score[\"model_loss\"])\n",
    "            \n",
    "            print(tracking_url_type_store)  # debugging\n",
    "            \n",
    "            if tracking_url_type_store != \"file\":\n",
    "                # Local MLflow — use model registry\n",
    "                mlflow.pytorch.log_model(self.model, \"model\", registered_model_name=\"ChestCancerDetectionModel\")\n",
    "            else:\n",
    "                # Remote MLflow (like DagsHub) — no registry\n",
    "                mlflow.pytorch.log_model(self.model, \"model\")\n",
    "            \n",
    "        "
   ]
  },
  {
   "cell_type": "code",
   "execution_count": 20,
   "id": "53d275e9",
   "metadata": {},
   "outputs": [
    {
     "name": "stdout",
     "output_type": "stream",
     "text": [
      "[2025-07-18 19:53:06,500|(INFO)| File: common | Message: Created directory: artifacts]\n"
     ]
    },
    {
     "name": "stderr",
     "output_type": "stream",
     "text": [
      "/home/kirti/anaconda3/envs/deeplearning/lib/python3.11/site-packages/torchvision/transforms/v2/_deprecated.py:42: UserWarning: The transform `ToTensor()` is deprecated and will be removed in a future release. Instead, please use `v2.Compose([v2.ToImage(), v2.ToDtype(torch.float32, scale=True)])`.Output is equivalent up to float precision.\n",
      "  warnings.warn(\n"
     ]
    },
    {
     "name": "stderr",
     "output_type": "stream",
     "text": [
      "/tmp/ipykernel_15911/1400308713.py:60: FutureWarning: You are using `torch.load` with `weights_only=False` (the current default value), which uses the default pickle module implicitly. It is possible to construct malicious pickle data which will execute arbitrary code during unpickling (See https://github.com/pytorch/pytorch/blob/main/SECURITY.md#untrusted-models for more details). In a future release, the default value for `weights_only` will be flipped to `True`. This limits the functions that could be executed during unpickling. Arbitrary objects will no longer be allowed to be loaded via this mode unless they are explicitly allowlisted by the user via `torch.serialization.add_safe_globals`. We recommend you start setting `weights_only=True` for any use case where you don't have full control of the loaded file. Please open an issue on GitHub for any issues related to this experimental feature.\n",
      "  state_dict = torch.load(model_path,map_location=torch.device('cpu'))\n"
     ]
    },
    {
     "name": "stdout",
     "output_type": "stream",
     "text": [
      "<class 'torchvision.models.vgg.VGG'>\n"
     ]
    },
    {
     "name": "stderr",
     "output_type": "stream",
     "text": [
      "Evaluation:   0%|          | 0/40 [00:58<?, ?it/s, acc=6, loss=8.27]\n"
     ]
    },
    {
     "name": "stdout",
     "output_type": "stream",
     "text": [
      "{'model_accuracy': 1.9047619047619049, 'model_loss': 0.02624742417108445}\n",
      "[2025-07-18 19:56:46,547|(WARNING)| File: connectionpool | Message: Retrying (Retry(total=4, connect=5, read=4, redirect=5, status=5)) after connection broken by 'ReadTimeoutError(\"HTTPSConnectionPool(host='dagshub.com', port=443): Read timed out. (read timeout=120)\")': /Kra09-kp/E2EChestCancerDetection.mlflow/api/2.0/mlflow/experiments/get-by-name?experiment_name=Checking+Model]\n",
      "https\n",
      "[2025-07-18 20:05:37,543|(WARNING)| File: connectionpool | Message: Retrying (Retry(total=4, connect=5, read=4, redirect=5, status=5)) after connection broken by 'TimeoutError('The write operation timed out')': /Kra09-kp/E2EChestCancerDetection.mlflow/api/2.0/mlflow-artifacts/artifacts/72db5ed5d54f4bdfb5c17184ab9c7296/9eb146ee28cc4f568ee763a6ea312929/artifacts/model/data/model.pth]\n"
     ]
    },
    {
     "name": "stderr",
     "output_type": "stream",
     "text": [
      "Successfully registered model 'ChestCancerDetectionModel'.\n",
      "2025/07/18 20:11:01 INFO mlflow.tracking._model_registry.client: Waiting up to 300 seconds for model version to finish creation.                     Model name: ChestCancerDetectionModel, version 1\n",
      "Created version '1' of model 'ChestCancerDetectionModel'.\n"
     ]
    }
   ],
   "source": [
    "try:\n",
    "    config = configManager()\n",
    "    eval_config = config.get_evaluation_config()\n",
    "    model_eval = ModelEvaluation(eval_config)\n",
    "    model_eval.evaluation()\n",
    "    model_eval.log_into_mlflow()\n",
    "\n",
    "except Exception as e:  \n",
    "    raise e"
   ]
  }
 ],
 "metadata": {
  "kernelspec": {
   "display_name": "deeplearning",
   "language": "python",
   "name": "python3"
  },
  "language_info": {
   "codemirror_mode": {
    "name": "ipython",
    "version": 3
   },
   "file_extension": ".py",
   "mimetype": "text/x-python",
   "name": "python",
   "nbconvert_exporter": "python",
   "pygments_lexer": "ipython3",
   "version": "3.11.9"
  }
 },
 "nbformat": 4,
 "nbformat_minor": 5
}
