{
 "cells": [
  {
   "cell_type": "code",
   "execution_count": 1,
   "id": "acb5ede4",
   "metadata": {},
   "outputs": [],
   "source": [
    "import os"
   ]
  },
  {
   "cell_type": "code",
   "execution_count": 2,
   "id": "eff45193",
   "metadata": {},
   "outputs": [
    {
     "data": {
      "text/plain": [
       "'/media/kirti/Dev/DeepLearning/Project/E2E/ChestCancerDetection/research'"
      ]
     },
     "execution_count": 2,
     "metadata": {},
     "output_type": "execute_result"
    }
   ],
   "source": [
    "%pwd"
   ]
  },
  {
   "cell_type": "code",
   "execution_count": 3,
   "id": "374a2aed",
   "metadata": {},
   "outputs": [
    {
     "data": {
      "text/plain": [
       "'/media/kirti/Dev/DeepLearning/Project/E2E/ChestCancerDetection'"
      ]
     },
     "execution_count": 3,
     "metadata": {},
     "output_type": "execute_result"
    }
   ],
   "source": [
    "os.chdir('../')\n",
    "%pwd    "
   ]
  },
  {
   "cell_type": "code",
   "execution_count": 14,
   "id": "c4401e94",
   "metadata": {},
   "outputs": [],
   "source": [
    "from dataclasses import dataclass\n",
    "from pathlib import Path\n",
    "\n",
    "@dataclass(frozen=True)\n",
    "class DataIngestionConfig:\n",
    "    root_dir: Path\n",
    "    source_url: str\n",
    "    local_data_file: Path\n",
    "    unzip_dir: Path"
   ]
  },
  {
   "cell_type": "code",
   "execution_count": 19,
   "id": "bcd2350c",
   "metadata": {},
   "outputs": [],
   "source": [
    "from cnnClassifier.constants import *\n",
    "from cnnClassifier.utils.common import read_yaml, create_directories\n",
    "\n",
    "class ConfigManager:\n",
    "    def __init__(self, config_file_path=CONFIG_FILE_PATH, params_file_path=PARAMS_FILE_PATH):\n",
    "        self.config = read_yaml(config_file_path)\n",
    "        self.params = read_yaml(params_file_path)\n",
    "        print(self.config.artifacts_root)\n",
    "        create_directories([self.config.artifacts_root]) \n",
    "    \n",
    "    def get_data_ingestion_config(self) -> DataIngestionConfig:\n",
    "        config = self.config.data_ingestion\n",
    "        create_directories([config.root_dir])\n",
    "        return DataIngestionConfig(\n",
    "            root_dir=config.root_dir,\n",
    "            source_url=config.source_url,\n",
    "            local_data_file=config.local_data_file,\n",
    "            unzip_dir=config.unzip_dir\n",
    "        )"
   ]
  },
  {
   "cell_type": "code",
   "execution_count": 20,
   "id": "fdce2130",
   "metadata": {},
   "outputs": [],
   "source": [
    "import os\n",
    "import zipfile\n",
    "import gdown\n",
    "from cnnClassifier import logger\n",
    "from cnnClassifier.utils.common import get_file_size"
   ]
  },
  {
   "cell_type": "code",
   "execution_count": null,
   "id": "cca116ff",
   "metadata": {},
   "outputs": [],
   "source": [
    "class DataIngestion:\n",
    "    def __init__(self, config: DataIngestionConfig):\n",
    "        self.config = config\n",
    "\n",
    "    def download_data(self):\n",
    "        '''\n",
    "        Downloads data from the source URL to the local data file path.\n",
    "        If the file already exists, it skips the download.\n",
    "        '''\n",
    "\n",
    "        try:\n",
    "            dataset_url = self.config.source_url\n",
    "            zip_download_path = self.config.local_data_file\n",
    "            unzip_dir = self.config.unzip_dir\n",
    "            os.makedirs(os.path.dirname(unzip_dir), exist_ok=True)\n",
    "            logger.info(f\"Downloading data from {dataset_url} to {zip_download_path}\")\n",
    "\n",
    "            file_id = dataset_url.split('/')[-2]\n",
    "            prefix = f\"https://drive.google.com/uc?export=download&id={file_id}\"\n",
    "            if os.path.exists(zip_download_path):\n",
    "                file_size = get_file_size(Path(zip_download_path))\n",
    "                if file_size > 0:\n",
    "                    logger.info(f\"File already exists at {zip_download_path} with size {file_size} bytes. Skipping download.\")\n",
    "                    return\n",
    "            gdown.download(prefix, zip_download_path, quiet=False)\n",
    "\n",
    "            logger.info(f\"Downloaded data to {zip_download_path}\")\n",
    "\n",
    "        except Exception as e:\n",
    "            logger.error(f\"Error downloading data: {e}\")\n",
    "            raise e  \n",
    "\n",
    "    def unzip_data(self):\n",
    "        '''\n",
    "        Unzips the downloaded data file to the specified unzip directory.\n",
    "        If the unzip directory already exists, it skips the unzipping.\n",
    "        '''\n",
    "\n",
    "        os.makedirs(self.config.unzip_dir, exist_ok=True)\n",
    "        with zipfile.ZipFile(self.config.local_data_file, 'r') as zip_ref:\n",
    "            zip_ref.extractall(self.config.unzip_dir)\n",
    "        logger.info(f\"Unzipped data to {self.config.unzip_dir}\")\n",
    "        "
   ]
  },
  {
   "cell_type": "code",
   "execution_count": 28,
   "id": "50afc56c",
   "metadata": {},
   "outputs": [
    {
     "name": "stdout",
     "output_type": "stream",
     "text": [
      "artifacts\n",
      "[2025-07-06 17:14:23,228|(INFO)| File: common | Message: Created directory: artifacts]\n",
      "[2025-07-06 17:14:23,235|(INFO)| File: common | Message: Created directory: artifacts/data_ingestion]\n",
      "[2025-07-06 17:14:23,239|(INFO)| File: 2734619864 | Message: Downloading data from https://drive.google.com/file/d/1ArZQhYChicOaM2AFE7dj0FNDzQPwBW7L/view?usp=sharing to artifacts/data_ingestion/data.zip]\n",
      "[2025-07-06 17:14:23,245|(INFO)| File: 2734619864 | Message: File already exists at artifacts/data_ingestion/data.zip with size 124379012 bytes. Skipping download.]\n",
      "[2025-07-06 17:14:31,278|(INFO)| File: 2734619864 | Message: Unzipped data to artifacts/data_ingestion]\n"
     ]
    }
   ],
   "source": [
    "try:\n",
    "    config_manager = ConfigManager()\n",
    "    data_ingestion_config = config_manager.get_data_ingestion_config()\n",
    "    data_ingestion = DataIngestion(config=data_ingestion_config)\n",
    "\n",
    "    data_ingestion.download_data()\n",
    "    data_ingestion.unzip_data() \n",
    "\n",
    "except Exception as e:\n",
    "    logger.error(f\"Error in data ingestion pipeline: {e}\")\n",
    "    raise e"
   ]
  },
  {
   "cell_type": "code",
   "execution_count": null,
   "id": "99241290",
   "metadata": {},
   "outputs": [],
   "source": []
  }
 ],
 "metadata": {
  "kernelspec": {
   "display_name": "deeplearning",
   "language": "python",
   "name": "python3"
  },
  "language_info": {
   "codemirror_mode": {
    "name": "ipython",
    "version": 3
   },
   "file_extension": ".py",
   "mimetype": "text/x-python",
   "name": "python",
   "nbconvert_exporter": "python",
   "pygments_lexer": "ipython3",
   "version": "3.11.9"
  }
 },
 "nbformat": 4,
 "nbformat_minor": 5
}
